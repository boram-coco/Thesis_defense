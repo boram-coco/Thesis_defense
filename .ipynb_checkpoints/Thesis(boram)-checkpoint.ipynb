{
 "cells": [
  {
   "cell_type": "raw",
   "id": "634af1b7-2c6e-443f-b9b5-cb5130f6b59e",
   "metadata": {},
   "source": [
    "---\n",
    "title: \"<span style='font-size:0.7em'>Graph Based Fraud Detection:<br/> Leveraging Temporal Connection Intensity</span>\"\n",
    "bibliography: ref.bib\n",
    "author:\n",
    "  - \"**Boram KIM**\"\n",
    "institute:\n",
    "  - \"Department of Statistics, Jeonbuk National University\"\n",
    "execute: \n",
    "  enabled: true\n",
    "  cache: false\n",
    "  freeze: false  \n",
    "format:\n",
    "  revealjs:\n",
    "    chalkboard: true\n",
    "    slide-number: true\n",
    "    suppress-bibliography: false\n",
    "    css: styles.css\n",
    "---"
   ]
  },
  {
   "cell_type": "markdown",
   "id": "f5efe115-dd7a-4738-9e0b-1215bd0b4de5",
   "metadata": {
    "tags": []
   },
   "source": [
    "# Contents \n",
    "\n",
    "- Introduction\n",
    "\n",
    "- Related studies\n",
    "\n",
    "- Data Description\n",
    "\n",
    "- Proposed method\n",
    "\n",
    "- Experimet & Results\n",
    "\n",
    "- Conclusion & Discussions\n"
   ]
  },
  {
   "cell_type": "markdown",
   "id": "127f7f69-ffea-4afb-86da-2107ad167c3e",
   "metadata": {},
   "source": [
    "::: {.notes}\n",
    "\n",
    "이번 발표는 다음과 같은 순서로 진행하도록 하겠습니다.\n",
    "\n",
    ":::"
   ]
  },
  {
   "cell_type": "markdown",
   "id": "cae9997e-9faf-4bcc-9e4b-686033ece0d8",
   "metadata": {},
   "source": [
    "# Introduction"
   ]
  },
  {
   "cell_type": "markdown",
   "id": "acc7bc95-1e80-4058-bb56-029725835bab",
   "metadata": {},
   "source": [
    "::: {.notes}\n",
    "\n",
    "먼저 Introduction입니다.\n",
    "\n",
    ":::"
   ]
  },
  {
   "cell_type": "markdown",
   "id": "5946ddd9-6b1c-49c3-924f-1cdb0ac18552",
   "metadata": {},
   "source": [
    "## Introduction\n",
    "\n",
    "- In this study, complex interactions between observations (e.g., observations with short time intervals, close spatial proximity, or similar patterns) are modeled as graph signals.\n",
    "\n",
    "- A new methodology that embeds graph signals using GCN and combines them with traditional Euclidean methods like XGBoost, CatBoost."
   ]
  },
  {
   "cell_type": "markdown",
   "id": "25f1ba2c-9eac-4707-8c86-f56a21ef7238",
   "metadata": {},
   "source": [
    "::: {.notes}\n",
    "\n",
    "\n",
    "\n",
    "관측치 간의 복잡한 상호작용이 존재하는 데이터를 활용하는 새로운 모델을 만들었습니다.\n",
    "\n",
    "관측치 간의 복잡한 상호작용(예를 들어, 시간 간격이 짧은 관측치, 공간적으로 가까운 위치에 있는 관측치, 또는 유사한 패턴을 보이는 데이터 포인트들)을 그래프 시그널로 모델링하고, 그래프 시그널을 GCN으로 임베딩하여, 이를 기존 XGBoost와 같은 유클리드 방법들과 결합한 새로운 방법론을 제안한다.\n",
    "\n",
    "분석에 사용하는 데이터는 신용카드 데이터입니다.\n",
    "\n",
    "\n",
    "\n",
    ":::"
   ]
  },
  {
   "cell_type": "markdown",
   "id": "537a67ee-b97a-4ce7-ac5d-ae4d8b57bf40",
   "metadata": {},
   "source": [
    "## Introduction\n",
    "\n",
    "Assumptions in Existing Studies for Identifying Credit Card Fraud Transactions:\n",
    "\n",
    "- Large transactions made at specific merchants at specific times.\n",
    "\n",
    "- Consideration of merchants and transaction amounts rather than individual customer's fraudulent transactions.\n",
    "\n",
    "In summary, each transaction is analyzed independently to detect fraudulent activity."
   ]
  },
  {
   "cell_type": "markdown",
   "id": "56569e12-1689-4ce4-a3ba-1f6a4f66de1e",
   "metadata": {},
   "source": [
    "::: {.notes}\n",
    "\n",
    "신용카드 사기 거래 분석을 위한 기존 연구들은 다음과 같은 가정을 하고 분석을 진행했습니다.\n",
    "\n",
    "특정한 시간에 특정한 장소에서 큰 금액에 대한 거래,\n",
    "\n",
    "고객 개별의 거래보다는 상점과 거래에 초점을 맞춘 거래\n",
    "\n",
    "즉, 각 거래를 독립적으로 보고 분석을 진행했습니다.\n",
    "\n",
    ":::"
   ]
  },
  {
   "cell_type": "markdown",
   "id": "62a0d539-0e36-4e92-841f-7aad8e93b4c3",
   "metadata": {},
   "source": [
    "## Introduction\n",
    "\n",
    "- This study begins with the idea of what could be analyzed about fraudulent transactions if each transaction is not independent.\n",
    "\n",
    "- Keeping in mind the dependencies of each transaction, the study aims to identify fraudulent transactions through their connections.\n"
   ]
  },
  {
   "cell_type": "markdown",
   "id": "3bbce135-8ca2-4f45-89e7-d43d07cf063a",
   "metadata": {},
   "source": [
    "::: {.notes}\n",
    "\n",
    "- 본 연구에서는 각 거래가 독립적이지 않다면 사기 거래를 어떻게 분석할 수 있을지 고민함.\n",
    "\n",
    "- 거래의 종속성을 염두해 연결성을 통해 사기 거래를 파악.\n",
    ":::"
   ]
  },
  {
   "cell_type": "markdown",
   "id": "cc69cae4-7470-45a6-b1c4-7d63c3cb73ff",
   "metadata": {},
   "source": [
    "## Introduction\n",
    "\n",
    "![Figure 1: The graph displays the timeline of fraudulent transactions for credit card number 65691e+11, associated with Steven Johnson.](./figure/fraudulent_transactions.png){width=70%}"
   ]
  },
  {
   "cell_type": "markdown",
   "id": "7932054b-656f-4127-b355-881711717d98",
   "metadata": {},
   "source": [
    "::: {.notes}\n",
    "\n",
    "이 그림을 보시면 그림은 시간의 경과에 따라 거래 금액과 사기 거래 여부를 확인할 수 있습니다.\n",
    "\n",
    "파란색 점은 사기거래이고 빨간색 점은 정상 거래입니다. 파란색 점이 거의 동일한 시간선상에 위치하여 서로 연관되어 있는 것을 확인할 수 있습니다.\n",
    "\n",
    "또한 그림에서, 정상 거래일 때 평균 금액은 약 100에 위치하지만, 사기 거래는 정상 거래 보다 높은 큰 금액으로 나타납니다. \n",
    "\n",
    "그런데, 사기 거래이면서 적은 금액을 가진 이런 거래를 어떻게 분석할지 고민했씁니다. 이에, 관측값들의 연결성을 통해 분석하는 방법을 고려했습니다.\n",
    "\n",
    "\n",
    ":::"
   ]
  },
  {
   "cell_type": "markdown",
   "id": "00c1bf3e-bd3d-4578-902b-a9913c6fb2ce",
   "metadata": {},
   "source": [
    "## Introduction\n",
    "\n",
    "Existing anomaly detection techniques largely rely on analyzing the amount.\n",
    "\n",
    "| Type   | Avg Amount              | Avg Amount (Legitimate) | Avg Amount (Fraudulent) |\n",
    "|--------|-------------------------|-------------------------|-------------------------|\n",
    "| A | 88                      | 88                      | 122                      |\n",
    "| B | 179862                  | 178187                  | 1467967                 |\n",
    "| C | 70.28                   | 67.63                   | 530.57           |\n"
   ]
  },
  {
   "cell_type": "markdown",
   "id": "bc5155ed-4b13-47e6-816f-ac3a76682d50",
   "metadata": {},
   "source": [
    "::: {.notes}\n",
    "\n",
    "- 기존의 이상치 탐지 기법들은 거래 금액에 의존해 분석하는 방법들이 많습니다.\n",
    "\n",
    "- 표를 보시면 전체 거래 금액의 평균과 정상 거래일 때의 평균 금액은 유사합니다. \n",
    "\n",
    "- 사기 거래일 때 평균 금액은 비정상적으로 크게 나타납니다. 기존 연구들은 정상 거래보다 큰 금액을 사기 거래로 판단할 확률이 높습니다.\n",
    "\n",
    ":::"
   ]
  },
  {
   "cell_type": "markdown",
   "id": "7c775189-67c1-4fda-8e83-27c0ee1015f1",
   "metadata": {},
   "source": [
    "## Introduction\n",
    "\n",
    "![Figure 2: This graph represents transactions linked to credit card number 4.42608e+18. Blue nodes indicate fraudulent transactions, and red nodes\n",
    "represent legitimate ones. Node size reflects the transaction amount, and edges connect nodes with closely timed transactions.](./figure/4.42608e+18.png)"
   ]
  },
  {
   "cell_type": "markdown",
   "id": "c153a030-4ce9-48fa-aa0c-82b3492545b9",
   "metadata": {},
   "source": [
    "::: {.notes}\n",
    "\n",
    "이 그림은 거래를 그래프 구조로 나타낸 그림입니다. \n",
    "\n",
    "파란색은 사기 거래, 빨간색은 정상 거래이며 노드의 크기는 거래 금액의 값을 나타냅니다. \n",
    "\n",
    "노드간 연결이 되어있으면 시간적으로 가까운 거리를 의미합니다. \n",
    "\n",
    "노드 A와 제일왼쪽에 있는 노드는 연결이 되어 있지 않고, 이것은 시간상 먼 거리를 의미합니다. \n",
    "\n",
    "노드 A는 사기 거래이면서 거래 금액이 큰 값입니다. \n",
    "\n",
    "노드 B와 노드 C는 거래 금액만 보았을 때 어느 것이 사기인지 파악이 어렵습니다. \n",
    "\n",
    "그러나 관측값의 연결성을 활용한다면 적은 거래 금액을 가지고 있어도 사기 거래 파악에 용이할 것입니다.\n",
    "\n",
    ":::"
   ]
  },
  {
   "cell_type": "markdown",
   "id": "7ba4157f-e57e-4712-afe8-760d7bac691c",
   "metadata": {},
   "source": [
    "# Related Studies"
   ]
  },
  {
   "cell_type": "markdown",
   "id": "5adb38f2-ccd3-46f5-998a-9d0dc5788537",
   "metadata": {},
   "source": [
    "::: {.notes}\n",
    "\n",
    "사기 거래 탐지를 위해 다양한 연구가 진행되어 왔습니다.\n",
    "\n",
    "\n",
    ":::"
   ]
  },
  {
   "cell_type": "markdown",
   "id": "9d6a5e56-4b85-4e29-b947-cd62bed74772",
   "metadata": {
    "tags": []
   },
   "source": [
    "## Related Studies\n",
    "\n",
    "Various machine learning techniques have been studied to handle highly imbalanced data, such as credit card fraud transactions.\n",
    "\n",
    "\n",
    "- Wei et al[@wei2013effective]. proposed an online fraud detection system that demonstrated efficiency in handling large, imbalanced datasets.\n",
    "\n",
    "- Wheeler (2000)[@wheeler2000multiple] used case-based reasoning to reduce final-stage fraud investigations in the credit approval process by developing adaptive solutions for fraud filtering and case prioritization.\n"
   ]
  },
  {
   "cell_type": "markdown",
   "id": "8fdfeded-51ec-4d10-95c8-128a596b645a",
   "metadata": {},
   "source": [
    "::: {.notes}\n",
    "\n",
    "신용카드 데이터는 불균형 데이터이므로 이를 처리하기 위해 weiet과 wheeler의 머신러닝 기반의 연구들이 진행되었습니다.\n",
    "\n",
    ":::"
   ]
  },
  {
   "cell_type": "markdown",
   "id": "7ec29191-2d98-4f35-b435-979a3da7fa15",
   "metadata": {
    "tags": []
   },
   "source": [
    "## Related Studies\n",
    "\n",
    "- Srivastava (2008)[@srivastava2008credit] used Hidden Markov Models to train on normal cardholder behaviors and considered a transaction fraudulent if it was not accepted with high probability.\n",
    "\n",
    "- Sanchez (2009)[@sanchez2009association] used association rules to identify normal behavior patterns and detect fraud in anomalous transactions.\n"
   ]
  },
  {
   "cell_type": "markdown",
   "id": "4f6f06e8-5d98-4966-bae0-6e8d6ee7ab83",
   "metadata": {},
   "source": [
    "::: {.notes}\n",
    "\n",
    "Srivastava는 마르코프 모델, sanchez는 연관규칙을 활용해 사기 거래를 파악했습니다.\n",
    ":::"
   ]
  },
  {
   "cell_type": "markdown",
   "id": "d2e44ab6-21ab-492c-aff6-8d51a0f58953",
   "metadata": {
    "tags": []
   },
   "source": [
    "## Related Studies\n",
    "\n",
    "- Research on fraud detection techniques based on graphs, such as GCN[@kipf2016semi], GAT[@velivckovic2017graph], and GraphSage[@hamilton2017representation]\n",
    "\n",
    "- Dou and Liu (2018)[@dou2020enhancing] researched Levy-based similarity measurements using GNNs to counteract fraudsters' disguising behaviors and employed reinforcement learning to determine the optimal number of neighbors.\n"
   ]
  },
  {
   "cell_type": "markdown",
   "id": "87056ac9-a421-4c7a-a33b-d60f4803e648",
   "metadata": {},
   "source": [
    "::: {.notes}\n",
    "\n",
    "또한, 그래프를 활용한 사기거래 탐지 연구를 위해 GCN, GAT, GraphSage 등의 연구가 활발히 진행되었습니다.\n",
    "\n",
    "Dou와 Liu는 gnn을 활용해 연구를 진행했습니다.\n",
    ":::"
   ]
  },
  {
   "cell_type": "markdown",
   "id": "918b7e94-ac46-4c80-b664-bef58a670649",
   "metadata": {},
   "source": [
    "## Related Studies\n",
    "\n",
    "::: {.panel-tabset}\n",
    "\n",
    "#### Related Studies\n",
    "\n",
    "- Van analyzed credit card fraud detection techniques using network-based expansions, utilizing bipartite and tripartite graphs[@van2015apate].\n",
    "\n",
    "#### bipartite graph\n",
    "\n",
    "![Figure 3: An example of a bipartite graph](./figure/F2.png){width=70%}\n",
    "\n",
    "\n",
    "#### tripartite graph\n",
    "\n",
    "![Figure 4: An example of a tripartite graph](./figure/F3.png){width=70%}\n",
    ":::"
   ]
  },
  {
   "cell_type": "code",
   "execution_count": 1,
   "id": "1e2f2568-383d-4ae1-ae03-e24d4df218ba",
   "metadata": {},
   "outputs": [],
   "source": []
  },
  {
   "cell_type": "markdown",
   "id": "ec2890f2-4081-4019-ae87-eff79e7a174f",
   "metadata": {},
   "source": [
    "::: {.notes}\n",
    "\n",
    "Van은 이분형 그래프와 삼분형 그래프를 연구했습니다.\n",
    "\n",
    "- 그림에서 보시면 이분형 그래프는 고 객과 상점을 노드로 두고 분석하였고,\n",
    "\n",
    "- 삼분형 그래프는 고객, 상점, 개별 거래들을 노드로 두고 분석하였습니다. 이는 이분형 그래프에서보다 개별적인 거래 파악이 용이합니다. 다만, 노드와 엣지수가 많아져 분석 시간이 오래걸린다는 단점이 있습니다. \n",
    "\n",
    "본 연구에서는 삼분형 그래프에서 나아가 그래프를 활용해 분석을 진행합니다.\n",
    "\n",
    ":::"
   ]
  },
  {
   "cell_type": "markdown",
   "id": "869096f2-f5cb-4793-bbb8-ee27131463e4",
   "metadata": {},
   "source": [
    "# Data description"
   ]
  },
  {
   "cell_type": "markdown",
   "id": "5d83f21f-a5e6-4b8d-bf36-42e86ba9477f",
   "metadata": {},
   "source": [
    "::: {.notes}\n",
    "\n",
    "분석에 앞서 데이터 설명을 드리도록 하겠습니다.\n",
    "\n",
    ":::"
   ]
  },
  {
   "cell_type": "markdown",
   "id": "bd464a11-1270-413f-b301-24b26596239c",
   "metadata": {},
   "source": [
    "## Data description\n",
    "\n",
    "\n",
    "- Fraud transaction data can be obtained from financial exchange sites such as banks.\n",
    "\n",
    "- Transaction data is anonymized to protect customer privacy.\n",
    "\n",
    "- The analysis is conducted using data provided by Kaggle. "
   ]
  },
  {
   "cell_type": "markdown",
   "id": "dc7e457b-4f50-4fb9-aa94-54d7f5a9e04b",
   "metadata": {},
   "source": [
    "::: {.notes}\n",
    "\n",
    "\n",
    "- 사기 거래 데이터는 은행, 금융 거래 사이트에서 얻을 수 있으나 해당 데이터는 개인정보로 인해 익명처리 되어있습니다.\n",
    "\n",
    "- 그래서 본 연구에서는 캐글 데이터를 통해 데이터를 분석하겠습니다.\n",
    "\n",
    ":::"
   ]
  },
  {
   "cell_type": "markdown",
   "id": "a74fb7f6-db4d-48c0-85c1-6e1426a820db",
   "metadata": {},
   "source": [
    "## Data description\n",
    "\n",
    "Credit card transaction records of European cardholders\n",
    "\n",
    "- Data from 693 merchants and 943 individual cardholders\n",
    "\n",
    "- Consists of 1,048,575 rows (transactions) and 22 columns (variables)\n",
    "\n",
    "- 6,006 fraudulent transaction data, with a fraud transaction rate of 0.00573."
   ]
  },
  {
   "cell_type": "markdown",
   "id": "dd3e0e2c-5724-49af-b7a4-5ced168db260",
   "metadata": {},
   "source": [
    "::: {.notes}\n",
    "\n",
    "유럽카드 소지자의 신용카드 데이터는 약 700개의 상점 950개의 고객들로 이루어져 있습니다.\n",
    "\n",
    "약 백만개의 거래와 22개의 변수로 이루어져있고, 이 중 사기 거래는 6006개이며 사기 거래 비율은 0.00573입니다.\n",
    "\n",
    ":::"
   ]
  },
  {
   "cell_type": "markdown",
   "id": "a5867510-b927-49fb-b5cb-a34503daecde",
   "metadata": {},
   "source": [
    "## Data description\n",
    "\n",
    "**Only a selective subset of the 22 variables, deemed most relevant to the analysis objectives, will be utilized.**\n",
    "\n",
    "merchant information can be identified through the category\n",
    "\n",
    "- Exclude the merchant variable and the distance to merchant variable\n",
    "\n",
    "Exclude variables not reasonable for fraud transaction prediction\n",
    "\n",
    "- Customer's distance variable\n",
    "\n",
    "- Customer's name and date of birth"
   ]
  },
  {
   "cell_type": "markdown",
   "id": "05f4ddd4-8226-4b36-8745-6760607cf129",
   "metadata": {},
   "source": [
    "::: {.notes}\n",
    "\n",
    "22개의 변수 중 분석에 필요한 변수들을 선별했습니다.\n",
    "\n",
    "‘category’변수에 상점에 대한 정보가 담겨 있으므로 merchant의 위치상 거리 등과 같은 변수는 제거했습니다.\n",
    "\n",
    "사기 거래 분석에 합당하지 않은 고객의 거리 변수, 고객의 이름, 생년월일은 제외했습니다.\n",
    "\n",
    "\n",
    ":::"
   ]
  },
  {
   "cell_type": "markdown",
   "id": "3fb9ff07-8b4e-4466-89e4-800664936e6b",
   "metadata": {
    "tags": []
   },
   "source": [
    "## Data description\n",
    "| Variable            | Description                                            |\n",
    "|---------------------|--------------------------------------------------------|\n",
    "| trans.date.and.time | Trading Hours                                          |\n",
    "| amt                 | Transaction amount                                     |\n",
    "| category            | Types of transaction stores                            |\n",
    "| gender              | Gender of the customer                                 |\n",
    "| job                 | Job of the customer                                    |\n",
    "| is_fraud            | Indicate whether the transaction is fraudulent(0: legitimate, 1: fraudulent)                         |\n"
   ]
  },
  {
   "cell_type": "markdown",
   "id": "f86c3d9a-70fe-4f5e-863f-aeb26ce6beba",
   "metadata": {},
   "source": [
    "::: {.notes}\n",
    "\n",
    "\n",
    "\n",
    "즉, 거래 시간, 거래 금액, 상점 분류, 고객의 성별과 직업, 사기 거래 여부 변수를 활용했습니다.\n",
    "\n",
    ":::"
   ]
  },
  {
   "cell_type": "markdown",
   "id": "240cb275-3ece-42a6-98b4-60574e8eb69a",
   "metadata": {},
   "source": [
    "## Data description\n",
    "\n",
    "\n",
    "::: {.panel-tabset}\n",
    "\n",
    "#### Matrix\n",
    "\n",
    "An example the data used in this study for fitting models to graphs.\n",
    "\n",
    "![](./figure/XyW.png){width=70%}\n",
    "\n",
    "\n",
    "#### Graph1\n",
    "\n",
    "![Figure 5: The graph representation corresponds to the credit card number 4.503100e+18, associated with the customer named Katherine Tucker.](./figure/F4_3.png){width=35%}\n",
    "\n",
    "\n",
    "#### Graph2\n",
    "\n",
    "![Figure 6: The graph representation corresponds to the credit card number 4.503100e+18, associated with the customer named Katherine Tucker.](./figure/graph45031.png){width=70%}\n",
    ":::"
   ]
  },
  {
   "cell_type": "markdown",
   "id": "ba1e0079-74ba-4cb3-8583-69cd1972d527",
   "metadata": {},
   "source": [
    "\n",
    "::: {.notes}\n",
    "\n",
    "그래프 모델을 활용하기 위한 데이터 형식을 예로 설명드리겠습니다.\n",
    "\n",
    "X는 amt의 값이며 y는 사기거래여부입니다. Weight matrix는 관측값의 연결성을 나타냅니다.\n",
    "\n",
    "X, y, W를 활용해 그래프로 구조화 하면 다음과 같이 나타낼 수 있습니다.\n",
    "\n",
    "엣지의 링크를 고려하면 Graph2로 나타낼 수 있고, 본 연구에서는 이러한 그래프구조를 활용해 데이터를 분석합니다.\n",
    "\n",
    ":::"
   ]
  },
  {
   "cell_type": "markdown",
   "id": "39abe447-fa93-426a-82bb-bd7035d7e776",
   "metadata": {},
   "source": [
    "# Proposed method"
   ]
  },
  {
   "cell_type": "markdown",
   "id": "ee8b1427-b9d0-4044-9fc4-9f41e233d853",
   "metadata": {},
   "source": [
    "## General Methodology\n",
    "\n",
    "![Algorithm: Graph Convolutional Network with Euclidean Model](./figure/Algorithm.png){width=70%}"
   ]
  },
  {
   "cell_type": "markdown",
   "id": "ae13fcd1-e227-4be1-b28b-63997d760047",
   "metadata": {},
   "source": [
    "\n",
    "::: {.notes}\n",
    "\n",
    "본 연구에서 제안하는 방법입니다. 이 알고리즘에 대해 간단하게 설명드리도록 하겠습니다.\n",
    "\n",
    "\n",
    ":::"
   ]
  },
  {
   "cell_type": "markdown",
   "id": "31572bbe-5de7-48b4-bb89-ea11e6620644",
   "metadata": {
    "tags": []
   },
   "source": [
    "## General Methodology\n",
    "\n",
    "::: {.panel-tabset}\n",
    "\n",
    "#### 1\n",
    "\n",
    "- ${\\bf X}$: matrix with $(n \\times p)$, ${\\bf y}$: vector of length n\n",
    "\n",
    "- $\\mathbf{y}$ contains labels indicating fraud presence, while $\\mathbf{X}$ represents the design matrix for predicting $\\mathbf{y}$. \n",
    "\n",
    "#### 2\n",
    "\n",
    "- Some columns of ${\\bf X}$ define relationships between observations\n",
    "\n",
    "- Denote these variables as $\\{{\\bf x}_j : j \\in {\\cal J}\\}$. \n",
    "\n",
    "- ${\\cal J}$ is the index set for variables defining relationships\n",
    "\n",
    "#### 3\n",
    "\n",
    "- ${\\bf W}_j$: Relationship matrix between observations from ${\\bf x}_j$\n",
    "\n",
    "- ${\\bf W}_j$:  matrix with $(n \\times n)$\n",
    "\n",
    "- **Goal**: Predict ${\\bf y}$ using both ${\\bf X}$ and $\\{{\\bf W}_j, j \\in {\\cal J}\\}$\n",
    "\n",
    "#### 4\n",
    "\n",
    "- ${\\bf W}_j$ dimension grows with ${\\bf 𝑛}$, so reduce ${\\bf W}_j$ appropriately\n",
    "\n",
    "- Use hidden layer ${\\bf H}_j^{(L_j)}$ from the graph convolution unit\n",
    "\n",
    "#### 5\n",
    "\n",
    "**Graph convolution**\n",
    "\n",
    "- Equation: ${\\bf H}_j^{(l+1)} = \\sigma\\big({\\bf D}_j^{-1/2}{\\bf A}_j{\\bf D}_j^{-1/2}{\\bf H}_j^{(l)} {\\bf \\Theta}_j^{(l)}) \\big) \\quad \\text{for $l=0,1,2,\\dots,L_j$}$\n",
    "\n",
    "- ${\\bf A}_j$: Adjacency matrix of ${\\bf W}_j$\n",
    "\n",
    "- ${\\bf D}_j$: Degree matrix of ${\\bf W}_j$\n",
    "\n",
    "- ${\\bf \\Theta}_j^{(l)}$: Learnable parameters\n",
    "\n",
    "- $\\sigma$: Activation function\n",
    "\n",
    "#### 6\n",
    "\n",
    "Utilize GCN to handle the connectivity of observations in credit card fraud detection.Optimize using a loss function similar to [@kipf2016semi].\n",
    "\n",
    "- Loss function: $${\\cal L}_j = {\\cal L}^0_j +\\lambda {\\cal L}^{\\text{reg}}_j\\quad {\\cal L}^{\\text{reg}}_j={\\bf o}_j^\\top({\\bf D}_j-{\\bf A}_j) {\\bf o}_j$$\n",
    "\n",
    "#### 7\n",
    "\n",
    "\n",
    "-  Loss function: $${\\cal L}_j = {\\cal L}^0_j +\\lambda {\\cal L}^{\\text{reg}}_j\\quad {\\cal L}^{\\text{reg}}_j={\\bf o}_j^\\top({\\bf D}_j-{\\bf A}_j) {\\bf o}_j$$\n",
    "\n",
    "- ${\\bf o}_j$: Output from linearly transforming ${\\bf H}_j^{(L_j)}$\n",
    "\n",
    "- ${\\cal L}^0_j$: Supervised loss related to ${\\bf y}$\n",
    "\n",
    "- ${\\cal L}^{\\text{reg}}_j$: Encourages similarity as relationships increase.\n",
    "\n",
    "\n",
    "#### 8\n",
    "\n",
    "- ${\\bf H}_j^{(l)}$: Input for layer $l$.\n",
    "\n",
    "- ${\\bf H}_j^{(0)} = {\\bf X}^{(-j)}$:  Initial layer excluding ${\\bf x}_j$\n",
    "\n",
    "- Use standard linear transform instead of graph convolution for final layer.\n",
    "\n",
    "- This embeds the connection information of observations in the penultimate hidden layer.\n",
    "\n",
    "#### 9\n",
    "\n",
    "- Concatenated features: $$\\tilde{\\bf X}= {\\bf X} \\oplus {\\bf H}_1^{(L_1)} \\oplus {\\bf H}_2^{(L_2)} \\oplus \\dots \\oplus {\\bf H}_{|{\\cal J}|}^{(|{\\cal J}|)}$$\n",
    "\n",
    "- Train Euclidean model $M_{\\text{Euclid}}$ using $\\tilde{\\bf X}$\n",
    "\n",
    ":::"
   ]
  },
  {
   "cell_type": "markdown",
   "id": "5ace42fe-e257-43c9-9ae0-c4bd3d80bf36",
   "metadata": {},
   "source": [
    "\n",
    "::: {.notes}\n",
    "\n",
    "X는 설명변수로 n by p matrix이며, y는 예측하고자하는 값입니다.\n",
    "\n",
    "설명변수에서 관측값들의 연결성을 확인할 수 있는 변수를 x_j로 명하겠습니다.\n",
    "\n",
    "x_j의 연결을 반영한 n by n matrix를 w_j로 정의합니다. \n",
    "\n",
    "x와 w_j를 사용해 y를 예측합니다.\n",
    "\n",
    "w_j의 차원이 n과 비례하여 커지므로 그래프 컨볼루션 유닛인 히든레이어를 사용해 적절하게 줄이고자 합니다.\n",
    "\n",
    "이에, 히든레이어는 다음과 같은 방법으로 계산합니다.\n",
    "\n",
    "kipf와 welling이 제안한 GCN모델의 손실함수를 활용해 다음과 같이 손실함수를 정의합니다.\n",
    "\n",
    "손실함수 L은 지도학습에서 일반적으로 사용하는 손실함수이며, 손실함수 L^reg는 GCN구조에서 자주 사용하는, 그래프 모델을 정규화하기 위해 연결된 노드를 수식화 한 구조입니다. 가까운 거리일수록 똑같은 y값으로 분류하는 함수입니다.\n",
    "\n",
    "히든레이어의 입출력을 통해 나온 값을 x의 설명변수에 concat하여 유클리디안 모델에 활용합니다.\n",
    "\n",
    ":::"
   ]
  },
  {
   "cell_type": "markdown",
   "id": "d318e22b-2dfa-477b-af4e-826e2c4e934a",
   "metadata": {
    "tags": []
   },
   "source": [
    "## Application to Fraud Data\n",
    "\n",
    "- Analyzing ${\\tt fraud\\_data}$ using the proposed methodology.\n",
    "\n",
    "- Given data: $({\\bf X},{\\bf y})$\n",
    "\n",
    "- Only, ${\\tt trans\\_data\\_and\\_time}$ captures the graph structure ($|{\\cal J}|=1$), referred to as ${\\bf x}_{\\tt tdt}$\n",
    "\n",
    "- ${\\bf H}^{(0)}$ consists of ${\\bf x}_{\\tt amt}$ since ${\\tt amt}$ is crucial for predicting fraud."
   ]
  },
  {
   "cell_type": "markdown",
   "id": "caeb5d68-9d29-4a17-abb3-39dba5c4c7e3",
   "metadata": {},
   "source": [
    "\n",
    "::: {.notes}\n",
    "\n",
    "앞서 설명드린 내용을 사기 거래 데이터에 반영해 다시 한 번 설명드리도록 하겠습니다.\n",
    "\n",
    "사기 거래 데이터에서는 관측값들의 연결성을 나타내는 변수를 시간 데이터로 설정하였습니다. 본 실험에서는 x_j로 시간변수만 활용했지만, 그 외에 다른 변수들을 추가할 수 있씁니다.\n",
    "\n",
    "히든레이어에 첫 번째 입력변수는 amt변수를 활용했습니다. 이는, amt가 사기거래르 파악하는데 있어 주요한 변수이기 때문입니다.\n",
    "\n",
    ":::"
   ]
  },
  {
   "cell_type": "markdown",
   "id": "a8a9066c-f98f-4929-9053-34746ff37c4b",
   "metadata": {
    "tags": []
   },
   "source": [
    "## Application to Fraud Data\n",
    "\n",
    "- Consider ${\\tt cc\\_num}$ to create ${\\bf x}_{\\tt tdt}$\n",
    "\n",
    "- Block-matrix structure: $${\\bf W}_{\\tt tdt}=\\begin{bmatrix}\n",
    "{\\bf W}_{{\\tt tdt},1} & {\\bf 0} & {\\bf 0} & \\dots & {\\bf 0} \\\\ \n",
    "{\\bf 0} & {\\bf W}_{{\\tt tdt},2} & {\\bf 0} & \\dots & {\\bf 0} \\\\ \n",
    "{\\bf 0} & {\\bf 0} & {\\bf W}_{{\\tt tdt},3} & \\dots & {\\bf 0} \\\\ \n",
    "\\dots & \\dots & \\dots & \\dots & \\dots \\\\ \n",
    "{\\bf 0} & {\\bf 0} & {\\bf 0} & \\dots & {\\bf W}_{{\\tt tdt},|{\\cal I}|}\n",
    "\\end{bmatrix}$$\n",
    "\n",
    "- ${\\cal I}$ is the set of ${\\tt cc\\_num}$"
   ]
  },
  {
   "cell_type": "markdown",
   "id": "83e9895f-cf82-4a4c-a642-0095c0dfd54f",
   "metadata": {},
   "source": [
    "\n",
    "::: {.notes}\n",
    "\n",
    "고객별로 거래별 시간데이터를 활용해 weight matrix를 정했습니다.\n",
    "\n",
    "고객 A와 고객 B는 서로 관련이 없으므로 다음과 같이 대각 행렬로 나타납니다.\n",
    ":::"
   ]
  },
  {
   "cell_type": "markdown",
   "id": "0e2e3faf-3611-4e23-81f6-7546b6b3d057",
   "metadata": {
    "tags": []
   },
   "source": [
    "## Application to Fraud Data\n",
    "\n",
    "- For fixed $i \\in {\\cal I}, (t,s)$-th elements of ${\\bf W}_{{\\tt tdt},i}$: $$\\exp \\left(\\frac{-|t-s|_2^2}{\\theta} \\right) \\ \\ \\ \\text{where}  \\ \\  \\ t,s \\in {\\cal T}_i$$\n",
    "\n",
    "- ${\\cal T}_i$ is the set of transaction times for the $i$th customer."
   ]
  },
  {
   "cell_type": "markdown",
   "id": "ab64cd1d-fec6-4ed3-b907-e5913ae32f8a",
   "metadata": {},
   "source": [
    "\n",
    "::: {.notes}\n",
    "\n",
    "웨이트 매트릭스는 다음과 같은 방법을 통해 값을 조정했습니다.\n",
    "\n",
    ":::"
   ]
  },
  {
   "cell_type": "markdown",
   "id": "6099aadc-1f53-4fb4-b958-c7b6b959ec3b",
   "metadata": {
    "tags": []
   },
   "source": [
    "## Application to Fraud Data\n",
    "\n",
    "**Graph Convolutional Network Architecture**\n",
    "\n",
    "1. **1×16 GCN Layer**: \n",
    "   ${\\bf H}^{(1)} = \\text{ReLU}\\left({\\bf D}^{-1/2} {\\bf A} {\\bf D}^{-1/2} {\\bf H}^{(0)} {\\bf \\Theta}^{(0)}\\right)$\n",
    "\n",
    "2. **16×8 GCN Layer**: \n",
    "   ${\\bf H}^{(2)} = \\text{ReLU}\\left({\\bf D}^{-1/2} {\\bf A} {\\bf D}^{-1/2} {\\bf H}^{(1)} {\\bf \\Theta}^{(1)}\\right)$\n",
    "\n",
    "3. **8×1 Linear Layer**: \n",
    "   $\\text{Sigmoid}\\left({\\bf H}^{(2)} {\\bf \\Theta}^{(2)}\\right)$"
   ]
  },
  {
   "cell_type": "markdown",
   "id": "00abe48f-5a03-4642-825f-859d4650d13f",
   "metadata": {},
   "source": [
    "\n",
    "::: {.notes}\n",
    "\n",
    "그래프 컨볼루션 네트워트 아키텍처를 통해 각 층을 학습했습니다. 정규화된 그래프 구조를 반영합니다.\n",
    ":::"
   ]
  },
  {
   "cell_type": "markdown",
   "id": "bbf86193-203d-4e08-85d2-b5fde5e86946",
   "metadata": {
    "tags": []
   },
   "source": [
    "## Application to Fraud Data\n",
    "\n",
    "- ${\\bf D}$ and ${\\bf A}$: Degree matrix and adjacency matrix for ${\\bf W}$.\n",
    "\n",
    "- ${\\bf \\Theta}^{(0)}$, ${\\bf \\Theta}^{(1)}$,${\\bf \\Theta}^{(2)}$ dimensions:  $(1,16), (16,8), (8,1)$.\n",
    "\n",
    "- Linear Layer used for dimension reduction, capturing non-Euclidean information."
   ]
  },
  {
   "cell_type": "markdown",
   "id": "f56dd796-b0b8-4d5a-b1b8-0e694e8e7fec",
   "metadata": {
    "tags": []
   },
   "source": [
    "## Application to Fraud Data\n",
    "\n",
    "- **Experiment 5.1**: Predict ${\\bf y}$ using ${\\bf H}^{(2)}$\n",
    "\n",
    "- **Experiment 5.2**: Predict ${\\bf y}$ using  ${\\bf X} \\oplus {\\bf H}^{(2)}$"
   ]
  },
  {
   "cell_type": "markdown",
   "id": "9b8a1174-1f8c-4e0a-b293-54c213dce6e7",
   "metadata": {},
   "source": [
    "\n",
    "::: {.notes}\n",
    "\n",
    "학습을 통해 나온 히든 레이터를 X의 설명변수에 concat합니다.\n",
    "\n",
    "이를 통해 두가지 실험을 진행합니다.\n",
    "\n",
    "그래프 구조를 활용해 사기거래를 예측하는 실험, 즉 GCN을 활용해 새로운 방법으로 사기거래 탐지연구를 진행합니다.\n",
    "\n",
    "5.2 의 실험은, x의 설명변수에 그래프 구조를 반영해 사기거래를 예측합니다. 즉, 기존 연구 방법에 수정하여 적용할 수 있는 방법입니다.\n",
    "\n",
    ":::"
   ]
  },
  {
   "cell_type": "markdown",
   "id": "08887446-ab32-4483-87d0-b5b0880d3f0b",
   "metadata": {},
   "source": [
    "# Experiment & Results"
   ]
  },
  {
   "cell_type": "markdown",
   "id": "7d9524a1-6250-49c5-ae04-b5c79a442a58",
   "metadata": {
    "tags": []
   },
   "source": [
    "## Experiment\n",
    "\n",
    "To analyze and compare the experimental results, the following models were utilized:\n",
    "\n",
    "- **Proximity-Based Models**: KNN[@ramaswamy2000efficient], ROD[@almardeny2020novel]\n",
    "\n",
    "- **Linear Model-Base**: PCA[@shyu2003novel]\n",
    "\n",
    "- **Ensemble Methods**: RandomForest[@liaw2002classification], Isolation Forest[@liu2008isolation], XGBoost[@chen2016xgboost], LightGBM[@ke2017lightgbm], CatBoost[@prokhorenkova2018catboost]\n",
    "\n",
    "- **Neural Network Methods**"
   ]
  },
  {
   "cell_type": "markdown",
   "id": "157f79fc-70a0-4f46-a10b-0857a85fcc65",
   "metadata": {},
   "source": [
    "\n",
    "::: {.notes}\n",
    "\n",
    "실험의 비교를 위해서 근접 기반 방법인 KNN,ROD, 선형모델인 PCA, 앙상블 모델인 포레스트와 BOOST계열의 방법, 뉴럴 네트워크 방법과 비교합니다.\n",
    "\n",
    ":::"
   ]
  },
  {
   "cell_type": "markdown",
   "id": "f4c67351-012a-416b-b98a-b9911208d89b",
   "metadata": {},
   "source": [
    "## Experiment {.scrollable}\n",
    "\n",
    "\n",
    "![Figure 7: The architecture proposed in this study.](./figure/archi.png){height=100%}"
   ]
  },
  {
   "cell_type": "markdown",
   "id": "aceb4d1c-eca8-4605-846a-0f642854db86",
   "metadata": {},
   "source": [
    "\n",
    "::: {.notes}\n",
    "\n",
    "앞서 설명드린 아키텍처를 그림으로 나타내면 다음과 같습니다.\n",
    "\n",
    "비유클리디안 방법인 그래프 구조로 학습한 컨볼루션 히든 레이어를 유클리디안 모델에 반영해 분석하고자 합니다.\n",
    "\n",
    ":::"
   ]
  },
  {
   "cell_type": "markdown",
   "id": "2be76d76-80f9-4505-a590-02e3b1b37512",
   "metadata": {
    "tags": []
   },
   "source": [
    "## Experiment 1\n",
    "\n",
    "**Data Analysis Using Graph-Based Models**\n",
    "\n",
    "- Model: **CO-GCN** (considers connectivity of ${\\tt trans\\_and\\_date\\_time}$).\n",
    "\n",
    "- Added embedding values using graph information to amt variable."
   ]
  },
  {
   "cell_type": "markdown",
   "id": "1496039b-618c-4965-b7e8-589f8a89eaad",
   "metadata": {},
   "source": [
    "\n",
    "::: {.notes}\n",
    "\n",
    "먼저 첫 번째 실험입니다. 관측값의 연결성을 반영한 그래프 구조를 co-gcn이라고 명하겠습니다.\n",
    "\n",
    ":::"
   ]
  },
  {
   "cell_type": "markdown",
   "id": "faa1e6dd-20be-49cd-9f1a-724ac51a0942",
   "metadata": {
    "tags": []
   },
   "source": [
    "## Experiment 1 {.smaller}\n",
    "\n",
    "| Method       | Accuracy | Precision | Recall  | F1-score | AUC    |\n",
    "|--------------|----------|-----------|---------|----------|--------|\n",
    "| **CO-GCN**       | 0.994669 | 0.594801  | 0.215991| 0.316904 | 0.985420|\n",
    "| NeuralNet    | 0.998351 | 0.921711  | 0.777902| 0.843722 | 0.997630|\n",
    "| RandomForest | 0.997302 | 0.823810  | 0.672405| 0.740447 | 0.980178|\n",
    "| ExtraTrees   | 0.997718 | 0.914009  | 0.675181| 0.772064 | 0.981392|\n",
    "| LightGBM     | 0.996499 | 0.824149  | 0.576481| 0.680019 | 0.991976|\n",
    "| CatBoost     | 0.997111 | 0.843077  | 0.608551| 0.706869 | 0.974223|\n",
    "| XGBoost      | 0.996748 | 0.812098  | 0.564132| 0.661540 | 0.945512|\n",
    "| KNeighbors   | 0.994015 | 0.404206  | 0.096058| 0.155227 | 0.631168|\n"
   ]
  },
  {
   "cell_type": "markdown",
   "id": "15c3627e-5b06-411a-b5c9-150d1d42a597",
   "metadata": {},
   "source": [
    "\n",
    "::: {.notes}\n",
    "\n",
    "결과 값을 보면 auc가 0.985로 높은 값을 보이는 것을 확인할 수 있습니다.\n",
    "\n",
    "표에 제시된 모델드은 앞서 설명드린 데이터세트의 설명변수들(amt, time, category, gender, job)을 학습한 결과값입니다. \n",
    "\n",
    "co-gcn은 해당 모델들과 auc가 비슷하거나 더 높은 값을 가짐을 확인할 수 있씁니다. 이는, co-gcn 모델 자체로도 경쟁력 있는 모델인 것을 나타냅니다.\n",
    "\n",
    ":::"
   ]
  },
  {
   "cell_type": "markdown",
   "id": "3f2c8f45-bb18-4100-9664-5ee5af8dc22e",
   "metadata": {
    "tags": []
   },
   "source": [
    "## Experiment 1\n",
    "\n",
    "- CO-GCN achieved an AUC of 0.985, indicating superior or similar performance compared to Euclidean models with explanatory variables ${\\tt amt, trans\\_date\\_and\\_time, category, gender, job}$.\n",
    "\n",
    "- Confirms GCN model's effectiveness by considering temporal connectivity."
   ]
  },
  {
   "cell_type": "markdown",
   "id": "1eccb219-d390-45f6-bba3-0f933e3fbaf5",
   "metadata": {
    "tags": []
   },
   "source": [
    "## Experiment 2\n",
    "\n",
    "**Enhancing the Performance of Euclidean Models Using Non-Euclidean Graph Information**\n",
    "\n",
    "- Enhance performance of Euclidean models using non-Euclidean graph information.\n",
    "\n",
    "- Analyze independent customer transactions using graph information.\n",
    "\n",
    "- Use a weight matrix based on transaction times for each customer.\n",
    "\n",
    "- Probabilities learned from GCN are used as new features in ${\\bf X}$\n"
   ]
  },
  {
   "cell_type": "markdown",
   "id": "fd776074-7ab0-4f98-9246-282a75cd95c6",
   "metadata": {},
   "source": [
    "\n",
    "::: {.notes}\n",
    "\n",
    "이번 실험에서는 그래프 학습을 통해 히든레이어를 설명변수에 concat한 분석 결과입니다.\n",
    "\n",
    "그래프 구조 정보를 반영한 모델은 언더바로 표시했습니다. \n",
    "\n",
    ":::"
   ]
  },
  {
   "cell_type": "markdown",
   "id": "034b206a-22a2-4d1b-ac90-d3bf82ebdccd",
   "metadata": {
    "tags": []
   },
   "source": [
    "## Experiment 2 example {.smaller}\n",
    "\n",
    "| Method           | Accuracy | Precision | Recall  | F1-score | AUC    |\n",
    "|------------------|----------|-----------|---------|----------|--------|\n",
    "| NeuralNet        | 0.998351 | 0.921711  | 0.777902| 0.843722 | 0.997630|\n",
    "| **NeuralNet\\_G**     | 0.998334 | 0.924764  | 0.866741| 0.894818 | 0.999656|\n",
    "| RandomForest     | 0.997302 | 0.823810  | 0.672405| 0.740447 | 0.980178|\n",
    "| **RandomForest\\_G**  | 0.996649 | 0.942949  | 0.816769| 0.875335 | 0.999124|\n",
    "| ExtraTrees       | 0.997718 | 0.914009  | 0.675181| 0.772064 | 0.981392|\n",
    "| **ExtraTrees\\_G**    | 0.998379 | 0.951084  | 0.755692| 0.842203 | 0.997328|\n",
    "| LightGBM         | 0.996499 | 0.824149  | 0.576481| 0.680019 | 0.991976|\n",
    "| **LightGBM\\_G**      | 0.998862 | 0.914418  | 0.889354| 0.901088 | 0.999706|\n",
    "\n",
    "\n"
   ]
  },
  {
   "cell_type": "markdown",
   "id": "e1789419-6000-4869-accb-cf6b0e3af4ba",
   "metadata": {},
   "source": [
    "\n",
    "::: {.notes}\n",
    "\n",
    "그래프 정보를 설명변수로 반영했으므로 AUC의 성능은 작지만 증가합니다. 그러나 큰차이가 없어보입니다. 이미 모델들이 학습이 잘 되어 있기 때문입니다. \n",
    "\n",
    ":::"
   ]
  },
  {
   "cell_type": "markdown",
   "id": "543e3c08-6946-4c6b-bae2-d2589b0e6a76",
   "metadata": {
    "tags": []
   },
   "source": [
    "## Experiment 2 example {.smaller}\n",
    "\n",
    "| Method           | Accuracy | Precision | Recall  | F1-score | AUC    |\n",
    "|------------------|----------|-----------|---------|----------|--------|\n",
    "| CatBoost         | 0.997111 | 0.843077  | 0.608551| 0.706869 | 0.974223|\n",
    "| **CatBoost\\_G**     | 0.999071 | 0.920835  | 0.742921| 0.815109 | 0.994701|\n",
    "| XGBoost          | 0.996748 | 0.812098  | 0.564132| 0.661540 | 0.945512|\n",
    "| **XGBoost\\_G**      | 0.998656 | 0.914561  | 0.830796| 0.877852 | 0.999132|\n",
    "| KNeighbors       | 0.994015 | 0.404206  | 0.096058| 0.155227 | 0.631168|\n",
    "| **KNeighbors\\_G**    | 0.994558 | 0.690987  | 0.083935| 0.158309 | 0.634899|\n",
    "\n",
    "\n"
   ]
  },
  {
   "cell_type": "markdown",
   "id": "1a3cbc86-0fb3-4c65-84f0-0d4cff64d778",
   "metadata": {
    "tags": []
   },
   "source": [
    "## Experiment 2\n",
    "\n",
    "- No significant difference in AUC values between existing methods and those including graph information probabilities.\n",
    "\n",
    "- Models were already well-trained with explanatory variables.\n",
    "\n",
    "- Significant difference in probability values for small transaction amounts."
   ]
  },
  {
   "cell_type": "markdown",
   "id": "fefe8e7e-4741-4eb0-903e-f8c351a46ba2",
   "metadata": {},
   "source": [
    "\n",
    "::: {.notes}\n",
    "\n",
    "평가 지표 외에 모델의 성능을 파악하기 위해 거래 금액이 작을 때 사기 거래를 잘 파악하는지를 살펴보았습니다.\n",
    "\n",
    ":::"
   ]
  },
  {
   "cell_type": "markdown",
   "id": "a98c3a46-3b11-464f-9f2a-745ad3b5ea3c",
   "metadata": {},
   "source": [
    "## Experiment 2\n",
    "\n",
    "![Figure 8: Comparison of y prediction probabilities using two different modeling approaches. The blue line represents the model predictions using explanatory variables X, while the orange line incorporates additional graph information values into the X variables. Both figures display the probability of y=1. The left figure shows the prediction probabilities for all amounts, whereas the right figure is specific to cases where amt less than 80.](./figure/tr1_2bin_.png)"
   ]
  },
  {
   "cell_type": "markdown",
   "id": "b14d6f41-f35d-45e9-8c8b-e6066e80490b",
   "metadata": {},
   "source": [
    "\n",
    "\n",
    "::: {.notes}\n",
    "\n",
    "\n",
    "해당 그림은 사기거래일 때의 예측 확률값을 나타낸 그림입니다.  데이터 중 y=1인, 즉 사기거래 데이터를 plot했습니다. \n",
    "\n",
    "x축에서 1일수록 사기거래로 판단합니다. 이상적인 모델은 값들이 1에 몰려있는 것입니다. \n",
    "\n",
    "주황색이 그래프 정보를 반영한 것입니다. \n",
    "\n",
    "왼쪽 그림은 전체 금액일때의 예측 확률값입니다. 그래프 정보를 반영한 것이 더, 사기거래를 파악하는 것을 볼 수 있습니다.\n",
    "\n",
    "본 데이터의 거래 평균은 70입니다. 이에 거래금액이 80보다 적은 데이터들을 잘 예측하는지 살펴보겠습니다. \n",
    "\n",
    "오른쪽 그림을 보면, 기존 연구방법은 사기 거래를 정상 거래로 판단한 값이 약 120개에 해당함.\n",
    "\n",
    "그래프 정보를 추가했을 때는 약 30개로 25% 감소함을 확인할 수 있습니다.  또한 사기거래를 사기거래로 잘 예측하였습니다. \n",
    "\n",
    "거래 금액이 적을 때 본 연구에서 제안하는 방법이, 좋은 성능을 보이는 것을 확인할 수 있었습니다.\n",
    "\n",
    "\n",
    "\n",
    ":::"
   ]
  },
  {
   "cell_type": "markdown",
   "id": "460631a5-be1f-46cc-892a-b55643abdf10",
   "metadata": {},
   "source": [
    "## Experiment 2 - example\n",
    "\n",
    "::: {.panel-tabset}\n",
    "\n",
    "#### Data\n",
    "\n",
    "Michael Rodriguez’s Fraudulent Transaction Data\n",
    "\n",
    "![](./figure/Michaedata.png){width=100%}\n",
    "\n",
    "#### Graph\n",
    "\n",
    "![Figure 9: The graph representation corresponds to the credit card number 3.024890e+13, associated with Michael Rodriguez.](./figure/302489.png)\n",
    ":::"
   ]
  },
  {
   "cell_type": "markdown",
   "id": "fbb25bdf-667d-4d53-9fdd-ad1f80fb976e",
   "metadata": {},
   "source": [
    "\n",
    "::: {.notes}\n",
    "\n",
    "이번 실험과 관련된 데이터를 예시로 설명드리겠습니다. 해당 데이터는 test data에 있는 MICHAEL의 사기거래 데이터입니다. \n",
    "\n",
    "거래 금액이 큰 금액들은,  기존 연구에서도 높은 확률값으로 사기거래로 올바르게 에측을 하였습니다. \n",
    "\n",
    "다만, 거래금액이 20일 때, 기존 연구은 0.4의 확률로 정상 거래로 판단했습니다. \n",
    "\n",
    "그래프 정보를 반영한 모델은 0.96의 확률로 사기거래로 판단했습니다.\n",
    "\n",
    "이는 관측값들의 연결성을 반영한 그래프 구조를 활용했기 때문입니다.\n",
    "\n",
    "\n",
    "Michael Rodriguez의 거래 평균 금액은 56.25임. 정상 거래일때의\n",
    "평균은 49.19이며, 사기 거래일때의 amt 금액 평균은 488.28임. 기존 연\n",
    "구들은 amt금액이 큰 경우 모두 사기 거래로 예측하였고, amt가 작은\n",
    "금액인 20.02일 때는 정상 거래로 예측함. amt가 20.02일때 확률 예측\n",
    "값은 0.4로 낮은 값을 보임. 반면에 그래프 정보를 활용한 방법은 amt\n",
    "가 적은 금액일지라도 사기 거래로 옳게 예측하였으며 0.96의 높은 확률\n",
    "값으로 예측함. 또한 amt가 높은 금액에서도 기존 연구들의 확률값보다\n",
    "높은 확률값을 보임을 알 수 있음\n",
    "\n",
    "이는 그래프를 시각화 한 Figure 7을 살펴보면 좀 더 쉽게 이해할\n",
    "수 있음. Michael 거래 중 사기 거래와 밀접한 데이터 9개를 선별하여\n",
    "시각화 한 그림임. 그래프에서 엣지의 웨이트를 고려해 링크의 연결을\n",
    "제거한 후의 그림임. 이는 사기 거래 금액이 적어도 사기 거래 여부를\n",
    "충분히 판단할 수 있는 방법임\n",
    "\n",
    ":::"
   ]
  },
  {
   "cell_type": "markdown",
   "id": "e272d7ad-d839-4405-917a-ffc31f97f7da",
   "metadata": {
    "tags": []
   },
   "source": [
    "## Additinal Experiments\n",
    "\n",
    "- To analyze the impact of varying the shape of train data while maintaining the test data shape\n",
    "\n",
    "- Original data fraud transaction ratio of 0.00573 is maintained.\n",
    "\n",
    "- Data split into train and test sets in a 7:3 ratio.\n",
    "\n",
    "- Test data shape remains constant.\n",
    "\n",
    "- Train data shape is varied for analysis."
   ]
  },
  {
   "cell_type": "markdown",
   "id": "68dc236a-4ef7-4198-9cde-65da81dbe0c9",
   "metadata": {},
   "source": [
    "\n",
    "::: {.notes}\n",
    "\n",
    "앞선 연구에서는 데이터를 7:3으로 나누어 분석을 진행하였습니다. \n",
    "\n",
    ":::"
   ]
  },
  {
   "cell_type": "markdown",
   "id": "62f94c08-cc68-406a-9080-050aa4a0f4b7",
   "metadata": {
    "tags": []
   },
   "source": [
    "## Additinal Experiments\n",
    "\n",
    "| Category | shape       | Fraud Transaction Ratio |\n",
    "|----------|-------------|-------------------------|\n",
    "| train1   | (734003, 22)| 0.00573                 |\n",
    "| train2   | (84100, 22) | 0.05                    |\n",
    "| train3   | (42050, 22) | 0.1                     |\n",
    "| train4   | (21025, 22) | 0.2                     |\n",
    "| train5   | (14017, 22) | 0.3                     |\n",
    "| train6   | (10512, 22) | 0.4                     |\n",
    "| train7   | (8410, 22)  | 0.5                     |\n",
    "| test     | (314572, 22)| 0.00573                 |\n"
   ]
  },
  {
   "cell_type": "markdown",
   "id": "2905eaab-a2b8-4c01-aba2-043b1eb18c93",
   "metadata": {},
   "source": [
    "\n",
    "::: {.notes}\n",
    "\n",
    "\n",
    "train data의 shape과 사기 거래 비율을 나누어 추가실험을 진행하였습니다. amt가 80미만일 때 예측확률 값을 그림으로 나타내면 다음과 같습니다. 이는, 데이터를 언더샘플링 하여 진행하여도 본 연구의 방법의 성능이 우수한 것을 나타냅니다.\n",
    ":::"
   ]
  },
  {
   "cell_type": "markdown",
   "id": "aa659e0c-b351-4452-b4ff-b4ca7f279caa",
   "metadata": {
    "tags": []
   },
   "source": [
    "## Additinal Experiments\n",
    "\n",
    "::: {.panel-tabset}\n",
    "\n",
    "#### Experiments\n",
    "\n",
    "To compare fraud probability for transactions with amounts less than 80 using undersampled train data.\n",
    "\n",
    "#### train2\n",
    "\n",
    "![Figure10: Trained on train2 and predicted the probability of y for transactions with amt<80](./figure/tr_3amt.png){width=55%}\n",
    "\n",
    "#### train3\n",
    "\n",
    "![Figure11: Trained on train3 and predicted the probability of y for transactions with amt<80](./figure/tr_4amt.png){width=55%}\n",
    "\n",
    "\n",
    ":::"
   ]
  },
  {
   "cell_type": "markdown",
   "id": "e3b3c53d-ddcb-4ff5-89f9-ee2af2f44b2f",
   "metadata": {},
   "source": [
    "\n",
    "::: {.notes}\n",
    "\n",
    "거래 금액이 80미만일 때 예측확률 값을 그림으로 나타내면 다음과 같습니다. \n",
    "\n",
    "이는, 데이터를 언더샘플링 하여 진행하여도 본 연구의 방법의 성능이 우수한 것을 나타냅니다.\n",
    ":::"
   ]
  },
  {
   "cell_type": "markdown",
   "id": "8436df46-9b57-4b0c-a58b-4c2b94abee35",
   "metadata": {
    "tags": []
   },
   "source": [
    "## Additinal Experiments\n",
    "\n",
    "::: {.panel-tabset}\n",
    "\n",
    "\n",
    "#### train4\n",
    "\n",
    "![Figure12: Trained on train4 and predicted the probability of y for transactions with amt<80](./figure/tr_5amt.png){width=55%}\n",
    "\n",
    "#### train5\n",
    "\n",
    "![Figure15: Trained on train5 and predicted the probability of y for transactions with amt<80](./figure/tr_6amt.png){width=55%}\n",
    "\n",
    "#### train6\n",
    "\n",
    "![Figure16: Trained on train6 and predicted the probability of y for transactions with amt<80](./figure/tr_7amt.png){width=55%}\n",
    "\n",
    "#### train7\n",
    "\n",
    "![Figure17: Trained on train7 and predicted the probability of y for transactions with amt<80](./figure/tr_8amt.png){width=55%}\n",
    "\n",
    ":::"
   ]
  },
  {
   "cell_type": "markdown",
   "id": "624864e1-0530-454e-8d1c-84851b37f729",
   "metadata": {},
   "source": [
    "\n",
    "::: {.notes}\n",
    "\n",
    "이는, 데이터를 언더샘플링 하여 진행하여도 본 연구의 방법의 성능이 우수한 것을 나타냅니다.\n",
    "\n",
    "D(train4)에서는 학습이 잘\n",
    "안된 것으로 보이는데, train data를 랜덤으로 언더샘플링 하는 과정에서\n",
    "학습 데이터의 정보 손실이 일어났기 떄문임. \n",
    "\n",
    "그럼에도 본 연구에서 제안한 방법이 우수한 성능을 보임.\n",
    "\n",
    ":::"
   ]
  },
  {
   "cell_type": "markdown",
   "id": "b8b78cd1-f125-4993-a4fa-c0f9ff4a7770",
   "metadata": {
    "tags": []
   },
   "source": [
    "## Additinal Experiments\n",
    "\n",
    "- Adding graph information to explanatory variables demonstrates superior performance.\n",
    "\n",
    "- This approach shows significant effectiveness even when applied to traditional undersampling methods for analyzing imbalanced data."
   ]
  },
  {
   "cell_type": "markdown",
   "id": "1de3bbe9-b1c9-4f60-bd95-f29bfffa1e85",
   "metadata": {},
   "source": [
    "\n",
    "::: {.notes}\n",
    "\n",
    "그래프 정보 값을 설명변수에 추가한 방법이 더 우수한\n",
    "성능을 보이는 것을 확인할 수 있음. 이는 불균형 데이터에서 분석의\n",
    "효율성을 위하여 언더샘플링한 후 분석하는 기존의 연구 방법들에 적용 해도 큰 효과를 보이는 것을 확인할 수 있음. \n",
    "\n",
    ":::"
   ]
  },
  {
   "cell_type": "markdown",
   "id": "d0aa6689-9389-4fbc-aa8d-04d9a85af16f",
   "metadata": {
    "tags": []
   },
   "source": [
    "## Additinal Experiments using Classic outlier detection\n",
    "\n",
    "- Classic outlier detection techniques are compared and analyzed with and without GCN information.\n",
    "\n",
    "- Classic outlier detection techniques require numerical input, so only the ${\\tt amt}$ column is used.\n",
    "\n",
    "- Experimental data is based on **train1** data."
   ]
  },
  {
   "cell_type": "markdown",
   "id": "9d89621b-acea-4772-bdc0-349ff2bc2223",
   "metadata": {},
   "source": [
    "\n",
    "::: {.notes}\n",
    "\n",
    "다음은, classic outlier detection 방법으로 분석을 진행하였습니다.\n",
    "\n",
    "이 방법들은 수치형의 설명변수를 받으므로 amt변수만 사용했습니다.\n",
    "\n",
    "분석 결과 그래프 정보를 활용하여 모델의 성능이 향상된 것을 확인할 수 있습니다. \n",
    "\n",
    "결과 성능 값이 크게 좋게 나오지는 않아, appendix에 관련 내용을 첨부하였습니다.\n",
    "\n",
    ":::"
   ]
  },
  {
   "cell_type": "markdown",
   "id": "986b7d1b-f3c3-40ac-aa33-fd23080047c0",
   "metadata": {
    "tags": []
   },
   "source": [
    "## Additinal Experiments using Classic outlier detection {.smaller}\n",
    "\n",
    "| Method  | Accuracy | Precision | Recall   | F1-score | AUC    |\n",
    "|---------|----------|-----------|----------|----------|--------|\n",
    "| IForest | 0.992832 | 0.373889  | 0.373682 | 0.373786 | 0.683660 |\n",
    "| IForest_G | 0.994313 | 0.503290  | 0.509717 | 0.506483 | 0.753410 |\n",
    "| KNN     | 0.992149 | 0.309185  | 0.300944 | 0.305009 | 0.648537 |\n",
    "| KNN_G   | 0.994129 | 0.487251  | 0.488063 | 0.487657 | 0.742553 |\n",
    "| PCA     | 0.992835 | 0.374931  | 0.377013 | 0.375969 | 0.686697 |\n",
    "| PCA_G   | 0.993401 | 0.425475  | 0.435869 | 0.430609 | 0.716240 |\n",
    "| ROD     | 0.982551 | 0.000542  | 0.001111 | 0.000729 | 0.494657 |\n",
    "| ROD_G   | 0.99411  | 0.486007  | 0.501389 | 0.493578 | 0.749168 |\n"
   ]
  },
  {
   "cell_type": "markdown",
   "id": "a6b12adc-0079-4afe-8596-27918f878c97",
   "metadata": {
    "tags": []
   },
   "source": [
    "## Additinal Experiments using Classic outlier detection\n",
    "\n",
    "- Classic outlier detection techniques showed lower performance compared to the latest boosting models.\n",
    "\n",
    "- In Experiment 2, multiple explanatory variables were used, while in this experiment, only amt was used due to Classic outlier detection's requirement for numerical inputs.\n",
    "\n",
    "- Latest boosting models achieved better performance through hyperparameter tuning.\n",
    "\n",
    "- Despite this, incorporating graph information into Classic outlier detection models resulted in a general increase in AUC values."
   ]
  },
  {
   "cell_type": "markdown",
   "id": "4d6a7326-8711-4811-9ea9-ee04d0a5cbd3",
   "metadata": {},
   "source": [
    ":::{.notes}\n",
    "\n",
    "- 전통적인 이상치 탐지 기법은 최신 부스팅 모델에 비해 성능이 낮았습니다.\n",
    "\n",
    "- 실험 2에서는 여러 설명 변수를 사용했지만, 이번 실험에서는 전통적인 이상치 탐지가 숫자 입력을 필요로 하기 때문에 amt만 사용했습니다.\n",
    "\n",
    "- 최신 부스팅 모델은 하이퍼파라미터 튜닝을 통해 더 나은 성능을 달성했습니다.\n",
    "\n",
    "- 그럼에도 불구하고, 그래프 정보를 전통적인 이상치 탐지 모델에 통합하면 AUC 값이 전반적으로 증가했습니다.\n",
    ":::"
   ]
  },
  {
   "cell_type": "markdown",
   "id": "5f1fdf40-a3b2-48fc-ac94-5f763b4f3557",
   "metadata": {},
   "source": [
    "# Conclusion"
   ]
  },
  {
   "cell_type": "markdown",
   "id": "37483e1b-913b-4de8-9944-24441c35fd48",
   "metadata": {},
   "source": [
    "## Conclusion\n",
    "\n",
    "\n",
    "- Each customer was analyzed as an individual graph structure using GCN models. By utilizing the connectivity of observed values in graph-based research methods, intuitive understanding of transactions was enhanced. For example, if transactions at 11:00 and 11:30 are fraudulent, a transaction at 11:15 is likely also fraudulent, regardless of the amount.\n",
    "\n",
    "- Non-Euclidean models incorporating graph information (XGBoost, LightGBM, CatBoost, etc.) showed superior performance compared to traditional methods. This approach reduced dependency on transaction amounts and made it easier to detect fraud in small transactions.\n"
   ]
  },
  {
   "cell_type": "markdown",
   "id": "c9998329-22ca-471e-b182-5fa337d7b65f",
   "metadata": {},
   "source": [
    ":::{.notes}\n",
    "\n",
    "각 고객을 GCN 모델을 사용해 개별 그래프 구조로 분석했습니다. 그래프 기반 연구 방법에서 관측값의 연결성을 활용하여 거래에 대한 직관적인 이해를 높였습니다. 예를 들어, 11:00과 11:30의 거래가 사기인 경우, 거래 금액에 상관없이 11:15의 거래도 사기일 가능성이 높습니다.\n",
    "\n",
    "그래프 정보를 통합한 비유클리드 모델(XGBoost, LightGBM, CatBoost 등)은 기존 방법보다 우수한 성능을 보였습니다. 이 접근 방식은 거래 금액에 대한 의존도를 줄이고 작은 거래 금액에서 사기를 쉽게 탐지할 수 있게 했습니다.\n",
    ":::"
   ]
  },
  {
   "cell_type": "markdown",
   "id": "1c605226-3ed6-476a-99a8-8b037a4d48fd",
   "metadata": {},
   "source": [
    "## Conclusion\n",
    "\n",
    "\n",
    "- The proposed method can be applied not only to fraud transaction data but also to data with complex interactions of observed values, such as traffic data or Wikipedia citations."
   ]
  },
  {
   "cell_type": "markdown",
   "id": "faf08e17-3e83-402d-996b-a698dfb22ef6",
   "metadata": {},
   "source": [
    ":::{.notes}\n",
    "\n",
    "제안된 방법은 사기 거래 데이터뿐만 아니라 교통 데이터나 위키백과 인용과 같이 관측값의 복잡한 상호작용을 가지는 데이터에도 적용할 수 있습니다.\n",
    ":::"
   ]
  },
  {
   "cell_type": "markdown",
   "id": "a9df5a49-bf1c-45e0-be06-4b0e214ccaf7",
   "metadata": {},
   "source": [
    "# Reference"
   ]
  },
  {
   "cell_type": "markdown",
   "id": "aecbabf7-06dc-47d8-81ae-395eaba4f49b",
   "metadata": {},
   "source": [
    ":::{.notes}\n",
    "\n",
    "앞서 설명드린 내용에서 나온 참고문헌은 다음과 같습니다.\n",
    "지금까지 발표를 들어주셔서 감사합니다.\n",
    ":::"
   ]
  },
  {
   "cell_type": "code",
   "execution_count": 2,
   "id": "d48f257a-6144-4de3-9442-89c5089b9762",
   "metadata": {},
   "outputs": [],
   "source": []
  },
  {
   "cell_type": "code",
   "execution_count": 3,
   "id": "97a4ad3d-7084-4122-9a59-dabed6015551",
   "metadata": {},
   "outputs": [],
   "source": []
  },
  {
   "cell_type": "code",
   "execution_count": 4,
   "id": "3515ced1-d342-4a5a-8e3c-4671f319ec74",
   "metadata": {},
   "outputs": [],
   "source": []
  }
 ],
 "metadata": {
  "kernelspec": {
   "display_name": "Python 3 (ipykernel)",
   "language": "python",
   "name": "python3"
  },
  "language_info": {
   "codemirror_mode": {
    "name": "ipython",
    "version": 3
   },
   "file_extension": ".py",
   "mimetype": "text/x-python",
   "name": "python",
   "nbconvert_exporter": "python",
   "pygments_lexer": "ipython3",
   "version": "3.9.13"
  }
 },
 "nbformat": 4,
 "nbformat_minor": 5
}
